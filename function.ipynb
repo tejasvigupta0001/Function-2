{
  "nbformat": 4,
  "nbformat_minor": 0,
  "metadata": {
    "colab": {
      "provenance": []
    },
    "kernelspec": {
      "name": "python3",
      "display_name": "Python 3"
    },
    "language_info": {
      "name": "python"
    }
  },
  "cells": [
    {
      "cell_type": "code",
      "execution_count": null,
      "metadata": {
        "id": "I2hd4e1FfXup"
      },
      "outputs": [],
      "source": []
    },
    {
      "cell_type": "markdown",
      "source": [
        "1. What is Python, and why is it popular?\n",
        " >Python is an interpreted, high-level programming language that is well-known for its extensive library, ease of use, and readability. It is well-liked because to its robust community support, adaptability, and simplicity of use."
      ],
      "metadata": {
        "id": "SwOfTJ6ofbI7"
      }
    },
    {
      "cell_type": "code",
      "source": [
        "# Write a Python program to print \"Hello, World!\"\n",
        "'''\n",
        "print(\"Hello, World!\")\n",
        "'''"
      ],
      "metadata": {
        "colab": {
          "base_uri": "https://localhost:8080/",
          "height": 35
        },
        "id": "l17n77XagVcI",
        "outputId": "e6f4ca17-0676-42f8-8e5c-82351bee8b52"
      },
      "execution_count": 1,
      "outputs": [
        {
          "output_type": "execute_result",
          "data": {
            "text/plain": [
              "'       \\nprint(\"Hello, World!\")\\n'"
            ],
            "application/vnd.google.colaboratory.intrinsic+json": {
              "type": "string"
            }
          },
          "metadata": {},
          "execution_count": 1
        }
      ]
    },
    {
      "cell_type": "code",
      "source": [
        "1. Write a Python program to print \"Hello, World!\"\n",
        "'''\n",
        "print(\"Hello, World!\")\n",
        "'''"
      ],
      "metadata": {
        "colab": {
          "base_uri": "https://localhost:8080/",
          "height": 106
        },
        "id": "gvRV0X5TgzQ5",
        "outputId": "6b9414f8-2731-476d-8375-d85d446c1692"
      },
      "execution_count": 2,
      "outputs": [
        {
          "output_type": "error",
          "ename": "SyntaxError",
          "evalue": "invalid syntax (<ipython-input-2-d87ba109bbd0>, line 1)",
          "traceback": [
            "\u001b[0;36m  File \u001b[0;32m\"<ipython-input-2-d87ba109bbd0>\"\u001b[0;36m, line \u001b[0;32m1\u001b[0m\n\u001b[0;31m    1. Write a Python program to print \"Hello, World!\"\u001b[0m\n\u001b[0m       ^\u001b[0m\n\u001b[0;31mSyntaxError\u001b[0m\u001b[0;31m:\u001b[0m invalid syntax\n"
          ]
        }
      ]
    },
    {
      "cell_type": "code",
      "source": [],
      "metadata": {
        "id": "MGPe8Pq7hRqa"
      },
      "execution_count": null,
      "outputs": []
    },
    {
      "cell_type": "markdown",
      "source": [
        "1. What is Python, and why is it popular?\n",
        "   >Python is an interpreted, high-level programming language that is well-known for its extensive library, ease of use, and readability. It is well-liked because to its robust community support, adaptability, and simplicity of use."
      ],
      "metadata": {
        "id": "AVjXqZoXhmey"
      }
    },
    {
      "cell_type": "code",
      "source": [
        ""
      ],
      "metadata": {
        "id": "Z6RJL54riQhJ"
      },
      "execution_count": null,
      "outputs": []
    },
    {
      "cell_type": "markdown",
      "source": [
        "1. What is Python, and why is it popular?\n",
        ">Python is an interpreted, high-level programming language that is well-known for its extensive library, ease of use, and readability. It is well-liked because to its robust community support, adaptability, and simplicity of use."
      ],
      "metadata": {
        "id": "i8Slc17WjFGm"
      }
    },
    {
      "cell_type": "code",
      "source": [
        "# Write a Python program to print \"Hello, World!\"\n",
        "'''\n",
        "print(\"Hello, World!\")\n",
        "'''"
      ],
      "metadata": {
        "colab": {
          "base_uri": "https://localhost:8080/",
          "height": 35
        },
        "id": "MS17xVTTjcol",
        "outputId": "6ce746e1-f42f-4ad4-ec78-cbc803342c69"
      },
      "execution_count": 3,
      "outputs": [
        {
          "output_type": "execute_result",
          "data": {
            "text/plain": [
              "'\\nprint(\"Hello, World!\")\\n'"
            ],
            "application/vnd.google.colaboratory.intrinsic+json": {
              "type": "string"
            }
          },
          "metadata": {},
          "execution_count": 3
        }
      ]
    },
    {
      "cell_type": "code",
      "source": [],
      "metadata": {
        "id": "3H5wf79mjs9O"
      },
      "execution_count": null,
      "outputs": []
    },
    {
      "cell_type": "markdown",
      "source": [
        "2. What is an interpreter in Python?\n",
        "> An interpreter is a program that executes Python code line by line, converting it into machine code for execution."
      ],
      "metadata": {
        "id": "dk1xse-zj_bl"
      }
    },
    {
      "cell_type": "code",
      "source": [
        "# Write a Python program that displays your name and age.\n",
        "'''\n",
        "    name = \"Tejasvi Kumai\"\n",
        "    age = 25\n",
        "    print(\"My name is\", name)\n",
        "    print(\"My age is\", age)\n",
        "'''"
      ],
      "metadata": {
        "colab": {
          "base_uri": "https://localhost:8080/",
          "height": 35
        },
        "id": "ZKzC2gq4kevX",
        "outputId": "31cd8c6e-db3c-4f2c-efd9-011f19bcf22a"
      },
      "execution_count": 4,
      "outputs": [
        {
          "output_type": "execute_result",
          "data": {
            "text/plain": [
              "'\\n    name = \"Tejasvi Kumai\"\\n    age = 25\\n    print(\"My name is\", name)\\n    print(\"My age is\", age)\\n'"
            ],
            "application/vnd.google.colaboratory.intrinsic+json": {
              "type": "string"
            }
          },
          "metadata": {},
          "execution_count": 4
        }
      ]
    },
    {
      "cell_type": "code",
      "source": [],
      "metadata": {
        "id": "6Kdb6E2rlHIR"
      },
      "execution_count": null,
      "outputs": []
    }
  ]
}